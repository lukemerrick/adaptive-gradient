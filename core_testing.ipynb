{
 "cells": [
  {
   "cell_type": "code",
   "execution_count": 6,
   "metadata": {},
   "outputs": [],
   "source": [
    "from mlp import MLP\n",
    "from wideresnet import WideResNet\n",
    "import dnn_utils\n",
    "\n",
    "import torch\n",
    "import torch.nn as nn\n",
    "import torch.backends.cudnn as cudnn\n",
    "import torch.optim\n",
    "\n",
    "from tqdm import tqdm\n",
    "\n",
    "import tensorboard_logger"
   ]
  },
  {
   "cell_type": "code",
   "execution_count": null,
   "metadata": {},
   "outputs": [],
   "source": [
    "epochs = 500\n",
    "lrs = [0.001, 0.0033, 0.01, 0.033]\n",
    "momentum = 0.9\n",
    "adam_lrs = [lr/10 for lr in lrs]\n",
    "for i, lr in enumerate(lrs):\n",
    "    print('[{}/{}] SGD Running Momentum={} LR={}'.format(i+1, len(lrs), momentum, lr))\n",
    "    train_loader, val_loader = dnn_utils.get_cifar10_loaders()\n",
    "    tlog = tensorboard_logger.Logger('runs/MLP_0.998decay_{}lr'.format(lr))\n",
    "    decay = dnn_utils.get_lr_decay_function(0.988, 1, tlog.log_value)\n",
    "    model = MLP([32*32*3, 512, 10])\n",
    "    cudnn.benchmark = True\n",
    "    criterion = nn.CrossEntropyLoss().cuda()\n",
    "    optimizer = torch.optim.SGD(model.parameters(), lr=lr, momentum=momentum)\n",
    "    for epoch in tqdm(range(epochs)):\n",
    "        decay(optimizer, epoch)\n",
    "        dnn_utils.train(train_loader, model, criterion, optimizer, epoch, \n",
    "            total_epochs=epochs, \n",
    "            performance_stats={'train_err': dnn_utils.top1error},\n",
    "            verbose=False, tensorboard_log_function=tlog.log_value,\n",
    "            tensorboard_stats=['train_loss', 'train_acc'])\n",
    "        dnn_utils.validate(val_loader, model, criterion, epoch,\n",
    "            total_epochs=epochs, \n",
    "            performance_stats={'val_err': dnn_utils.top1error},\n",
    "            verbose=False, tensorboard_log_function=tlog.log_value,\n",
    "            tensorboard_stats=['val_loss', 'val_err'])\n",
    "        \n",
    "for i, lr in enumerate(adam_lr):\n",
    "    print('[{}/{}] Adam Running Momentum={} LR={}'.format(i+1, len(lrs), momentum, lr))\n",
    "    train_loader, val_loader = dnn_utils.get_cifar10_loaders()\n",
    "    tlog = tensorboard_logger.Logger('runs/MLP_Adam_{}lr'.format(lr))\n",
    "    decay = dnn_utils.get_lr_decay_function(0.988, 1, tlog.log_value)\n",
    "    model = MLP([32*32*3, 512, 10])\n",
    "    cudnn.benchmark = True\n",
    "    criterion = nn.CrossEntropyLoss().cuda()\n",
    "    optimizer = torch.optim.Adam(model.parameters(), lr=lr)\n",
    "    for epoch in tqdm(range(epochs)):\n",
    "        decay(optimizer, epoch)\n",
    "        dnn_utils.train(train_loader, model, criterion, optimizer, epoch, \n",
    "            total_epochs=epochs, \n",
    "            performance_stats={'train_err': dnn_utils.top1error},\n",
    "            verbose=False, tensorboard_log_function=tlog.log_value,\n",
    "            tensorboard_stats=['train_loss', 'train_acc'])\n",
    "        dnn_utils.validate(val_loader, model, criterion, epoch,\n",
    "            total_epochs=epochs, \n",
    "            performance_stats={'val_err': dnn_utils.top1error},\n",
    "            verbose=False, tensorboard_log_function=tlog.log_value,\n",
    "            tensorboard_stats=['val_loss', 'val_err'])"
   ]
  }
 ],
 "metadata": {
  "kernelspec": {
   "display_name": "Environment (conda_pytorch_p36)",
   "language": "python",
   "name": "conda_pytorch_p36"
  },
  "language_info": {
   "codemirror_mode": {
    "name": "ipython",
    "version": 3
   },
   "file_extension": ".py",
   "mimetype": "text/x-python",
   "name": "python",
   "nbconvert_exporter": "python",
   "pygments_lexer": "ipython3",
   "version": "3.6.4"
  }
 },
 "nbformat": 4,
 "nbformat_minor": 2
}
